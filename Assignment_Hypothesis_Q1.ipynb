{
  "nbformat": 4,
  "nbformat_minor": 0,
  "metadata": {
    "colab": {
      "name": "Assignment - Hypothesis Q1",
      "provenance": [],
      "collapsed_sections": [],
      "authorship_tag": "ABX9TyMGyPkjNaHOi9aBMQ/2mxNh",
      "include_colab_link": true
    },
    "kernelspec": {
      "name": "python3",
      "display_name": "Python 3"
    },
    "language_info": {
      "name": "python"
    }
  },
  "cells": [
    {
      "cell_type": "markdown",
      "metadata": {
        "id": "view-in-github",
        "colab_type": "text"
      },
      "source": [
        "<a href=\"https://colab.research.google.com/github/bismahashim/Assignment/blob/main/Assignment_Hypothesis_Q1.ipynb\" target=\"_parent\"><img src=\"https://colab.research.google.com/assets/colab-badge.svg\" alt=\"Open In Colab\"/></a>"
      ]
    },
    {
      "cell_type": "code",
      "execution_count": null,
      "metadata": {
        "id": "oOqo4sPT4YAA"
      },
      "outputs": [],
      "source": [
        "import pandas as pd\n",
        "import numpy as np\n",
        "import matplotlib.pyplot as plt\n",
        "import seaborn as sns\n",
        "from scipy import stats\n",
        "from scipy.stats import norm"
      ]
    },
    {
      "cell_type": "code",
      "source": [
        "data = pd.read_csv('Cutlets.csv')"
      ],
      "metadata": {
        "id": "x8aK-jZn5KE8"
      },
      "execution_count": null,
      "outputs": []
    },
    {
      "cell_type": "code",
      "source": [
        "data.head()"
      ],
      "metadata": {
        "id": "hDwjhJBc5RKW"
      },
      "execution_count": null,
      "outputs": []
    },
    {
      "cell_type": "markdown",
      "source": [
        "Null Hypothesis - Unit A = Unit B\n",
        "Alternate Hypothesis - Unit A is not equal to Unit B"
      ],
      "metadata": {
        "id": "DSMXbcV57EiN"
      }
    },
    {
      "cell_type": "code",
      "source": [
        "dataA = data[[\"Unit A\"]]\n",
        "dataA"
      ],
      "metadata": {
        "id": "Wpq3kdat5vsR"
      },
      "execution_count": null,
      "outputs": []
    },
    {
      "cell_type": "code",
      "source": [
        "dataB = data[[\"Unit B\"]]\n",
        "dataB.head()"
      ],
      "metadata": {
        "id": "f0KmfOA65TBB"
      },
      "execution_count": null,
      "outputs": []
    },
    {
      "cell_type": "code",
      "source": [
        "stats.ttest_ind(dataA,dataB)"
      ],
      "metadata": {
        "id": "y-ivz7st5bru"
      },
      "execution_count": null,
      "outputs": []
    },
    {
      "cell_type": "markdown",
      "source": [
        "pvalue = 0.4722 as compare to α = 0.05 .\n",
        "pvalue>α\n",
        "Hence will Go for Fail to Reject NUll Hypothesis. Hence as per ananlysis data is normally distributed."
      ],
      "metadata": {
        "id": "kMfYI6n06qR-"
      }
    },
    {
      "cell_type": "code",
      "source": [
        "plt.scatter(dataA,dataB)"
      ],
      "metadata": {
        "id": "v8ACksdP6kPu"
      },
      "execution_count": null,
      "outputs": []
    },
    {
      "cell_type": "code",
      "source": [
        "plt.hist(data)"
      ],
      "metadata": {
        "id": "Hi0M-28f7tlR"
      },
      "execution_count": null,
      "outputs": []
    },
    {
      "cell_type": "code",
      "source": [
        "plt.hist(data,facecolor ='peru',edgecolor='blue',bins=5)"
      ],
      "metadata": {
        "id": "mIaYV5pL8Ir8"
      },
      "execution_count": null,
      "outputs": []
    },
    {
      "cell_type": "code",
      "source": [
        ""
      ],
      "metadata": {
        "id": "5pelAR-p8gRe"
      },
      "execution_count": null,
      "outputs": []
    }
  ]
}