{
  "nbformat": 4,
  "nbformat_minor": 0,
  "metadata": {
    "colab": {
      "name": "Basis Stats 1 - Q 23",
      "provenance": [],
      "collapsed_sections": [],
      "authorship_tag": "ABX9TyPfA+MQK0RcXXWqGYiBuCPe",
      "include_colab_link": true
    },
    "kernelspec": {
      "name": "python3",
      "display_name": "Python 3"
    },
    "language_info": {
      "name": "python"
    }
  },
  "cells": [
    {
      "cell_type": "markdown",
      "metadata": {
        "id": "view-in-github",
        "colab_type": "text"
      },
      "source": [
        "<a href=\"https://colab.research.google.com/github/bismahashim/Assignment/blob/main/Basis_Stats_1_Q_23.ipynb\" target=\"_parent\"><img src=\"https://colab.research.google.com/assets/colab-badge.svg\" alt=\"Open In Colab\"/></a>"
      ]
    },
    {
      "cell_type": "code",
      "execution_count": 1,
      "metadata": {
        "id": "7roLkeEaD33H"
      },
      "outputs": [],
      "source": [
        "#import the libraries\n",
        "import pandas as pd\n",
        "import scipy \n",
        "import numpy as np\n",
        "from scipy import stats\n",
        "from scipy.stats import norm \n"
      ]
    },
    {
      "cell_type": "markdown",
      "source": [
        "df = n-1 = 24\n",
        "\n",
        "t scores of 95% confidence interval for sample size of 25"
      ],
      "metadata": {
        "id": "6GCFjBHREE5N"
      }
    },
    {
      "cell_type": "code",
      "source": [
        "stats.t.ppf(0.975,24) "
      ],
      "metadata": {
        "colab": {
          "base_uri": "https://localhost:8080/"
        },
        "id": "wwK2dvCnD71t",
        "outputId": "0b027dda-3257-4b79-d5fb-d933385d2ece"
      },
      "execution_count": 3,
      "outputs": [
        {
          "output_type": "execute_result",
          "data": {
            "text/plain": [
              "2.0638985616280205"
            ]
          },
          "metadata": {},
          "execution_count": 3
        }
      ]
    },
    {
      "cell_type": "markdown",
      "source": [
        "t scores of 96% confidence interval for sample size of 25"
      ],
      "metadata": {
        "id": "IZ_ZK_WTEOu0"
      }
    },
    {
      "cell_type": "code",
      "source": [
        "stats.t.ppf(0.98,24) "
      ],
      "metadata": {
        "colab": {
          "base_uri": "https://localhost:8080/"
        },
        "id": "ubF95W4mECAV",
        "outputId": "1d561a66-70fb-48aa-c951-12373f0a5fa4"
      },
      "execution_count": 4,
      "outputs": [
        {
          "output_type": "execute_result",
          "data": {
            "text/plain": [
              "2.1715446760080677"
            ]
          },
          "metadata": {},
          "execution_count": 4
        }
      ]
    },
    {
      "cell_type": "markdown",
      "source": [
        "t scores of 99% confidence interval for sample size of 25"
      ],
      "metadata": {
        "id": "DvKf9fd2EZhH"
      }
    },
    {
      "cell_type": "code",
      "source": [
        "stats.t.ppf(0.995,24)"
      ],
      "metadata": {
        "colab": {
          "base_uri": "https://localhost:8080/"
        },
        "id": "rSdFr3azEW3A",
        "outputId": "ecce9139-7f83-4a87-b27a-4461d9ca99f3"
      },
      "execution_count": 5,
      "outputs": [
        {
          "output_type": "execute_result",
          "data": {
            "text/plain": [
              "2.796939504772804"
            ]
          },
          "metadata": {},
          "execution_count": 5
        }
      ]
    },
    {
      "cell_type": "code",
      "source": [
        ""
      ],
      "metadata": {
        "id": "SIoDZERqEe0v"
      },
      "execution_count": null,
      "outputs": []
    }
  ]
}