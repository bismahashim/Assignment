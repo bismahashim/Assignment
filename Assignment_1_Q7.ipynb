{
  "nbformat": 4,
  "nbformat_minor": 0,
  "metadata": {
    "colab": {
      "name": "Assignment 1 Q7",
      "provenance": [],
      "collapsed_sections": []
    },
    "kernelspec": {
      "name": "python3",
      "display_name": "Python 3"
    },
    "language_info": {
      "name": "python"
    }
  },
  "cells": [
    {
      "cell_type": "code",
      "execution_count": null,
      "metadata": {
        "id": "JX25knegai-j"
      },
      "outputs": [],
      "source": [
        "import pandas as pd\n",
        "import numpy as np\n",
        "import matplotlib.pyplot as plt\n",
        "import seaborn as sns\n",
        "%matplotlib inline"
      ]
    },
    {
      "cell_type": "code",
      "source": [
        "data = pd.read_csv('Q7.csv')"
      ],
      "metadata": {
        "id": "b8VRgqCGbIfn"
      },
      "execution_count": null,
      "outputs": []
    },
    {
      "cell_type": "code",
      "source": [
        "data"
      ],
      "metadata": {
        "id": "ETp-uw3-bOw2"
      },
      "execution_count": null,
      "outputs": []
    },
    {
      "cell_type": "code",
      "source": [
        "data.head()"
      ],
      "metadata": {
        "id": "e9hqQtYEgKj1"
      },
      "execution_count": null,
      "outputs": []
    },
    {
      "cell_type": "code",
      "source": [
        "data.mean()"
      ],
      "metadata": {
        "id": "4UgYRpQEbTr4"
      },
      "execution_count": null,
      "outputs": []
    },
    {
      "cell_type": "code",
      "source": [
        "data.median()"
      ],
      "metadata": {
        "id": "jbG3kWSdbbOU"
      },
      "execution_count": null,
      "outputs": []
    },
    {
      "cell_type": "code",
      "source": [
        "data.Points.mode()"
      ],
      "metadata": {
        "id": "mDZCBCHlbdhz"
      },
      "execution_count": null,
      "outputs": []
    },
    {
      "cell_type": "code",
      "source": [
        "data.Score.mode()"
      ],
      "metadata": {
        "id": "XOlgqBgZbh_P"
      },
      "execution_count": null,
      "outputs": []
    },
    {
      "cell_type": "code",
      "source": [
        "data.Weigh.mode()"
      ],
      "metadata": {
        "id": "KiQqMLPubsRi"
      },
      "execution_count": null,
      "outputs": []
    },
    {
      "cell_type": "code",
      "source": [
        "data.var()"
      ],
      "metadata": {
        "id": "aAHfeGCpb0de"
      },
      "execution_count": null,
      "outputs": []
    },
    {
      "cell_type": "code",
      "source": [
        "data.std()"
      ],
      "metadata": {
        "id": "F6yrVi_Dbwk5"
      },
      "execution_count": null,
      "outputs": []
    },
    {
      "cell_type": "code",
      "source": [
        "data.describe()"
      ],
      "metadata": {
        "id": "kxEjc5F7b7kt"
      },
      "execution_count": null,
      "outputs": []
    },
    {
      "cell_type": "code",
      "source": [
        "Range_Points=data.Points.max()-data.Points.min()\n",
        "print(Range_Points)"
      ],
      "metadata": {
        "id": "EVUguBgncBIU"
      },
      "execution_count": null,
      "outputs": []
    },
    {
      "cell_type": "code",
      "source": [
        "Range_Score=data.Score.max()-data.Score.min()\n",
        "Range_Score"
      ],
      "metadata": {
        "id": "mSej-eHScoP7"
      },
      "execution_count": null,
      "outputs": []
    },
    {
      "cell_type": "code",
      "source": [
        "Range_Weigh=data.Weigh.max()-data.Weigh.min()\n",
        "Range_Weigh"
      ],
      "metadata": {
        "id": "KSqd2UuedErJ"
      },
      "execution_count": null,
      "outputs": []
    },
    {
      "cell_type": "code",
      "source": [
        "data.value_counts()"
      ],
      "metadata": {
        "id": "0BIvxVWDdWst"
      },
      "execution_count": null,
      "outputs": []
    },
    {
      "cell_type": "code",
      "source": [
        "value_Points=data.Points.value_counts()\n",
        "value_Points"
      ],
      "metadata": {
        "id": "CBpwYhBxfMWO"
      },
      "execution_count": null,
      "outputs": []
    },
    {
      "cell_type": "code",
      "source": [
        "value_Score=data.Score.value_counts()\n",
        "value_Score"
      ],
      "metadata": {
        "id": "zqRa65SDfVhS"
      },
      "execution_count": null,
      "outputs": []
    },
    {
      "cell_type": "code",
      "source": [
        "value_Weigh=data.Weigh.value_counts()\n",
        "value_Weigh"
      ],
      "metadata": {
        "id": "CjcSaAIUfp0u"
      },
      "execution_count": null,
      "outputs": []
    },
    {
      "cell_type": "code",
      "source": [
        "plt_Points = plt.boxplot(data['Points'])\n",
        "plt.title('Points')"
      ],
      "metadata": {
        "id": "m7-v6cAYftnN"
      },
      "execution_count": null,
      "outputs": []
    },
    {
      "cell_type": "code",
      "source": [
        "plt_Score = plt.boxplot(data['Score'])\n",
        "plt.title('Score')"
      ],
      "metadata": {
        "id": "Dl0Cc6ePfxpK"
      },
      "execution_count": null,
      "outputs": []
    },
    {
      "cell_type": "code",
      "source": [
        "plt_Weigh = plt.boxplot(data['Weigh'])\n",
        "plt.title('Weigh')"
      ],
      "metadata": {
        "id": "ndVRF-xefxq-"
      },
      "execution_count": null,
      "outputs": []
    },
    {
      "cell_type": "code",
      "source": [
        "hist_Points = plt.hist(data['Points'])\n",
        "plt.title('Points')"
      ],
      "metadata": {
        "id": "uA0rSAgvfxtN"
      },
      "execution_count": null,
      "outputs": []
    },
    {
      "cell_type": "code",
      "source": [
        "hist_Score = plt.hist(data['Score'])\n",
        "plt.title('Score')"
      ],
      "metadata": {
        "id": "eL6YukScfxvc"
      },
      "execution_count": null,
      "outputs": []
    },
    {
      "cell_type": "code",
      "source": [
        "hist_Weigh = plt.hist(data['Weigh'])\n",
        "plt.title('Weigh')"
      ],
      "metadata": {
        "id": "M1DXTDIBfxzB"
      },
      "execution_count": null,
      "outputs": []
    },
    {
      "cell_type": "code",
      "source": [
        ""
      ],
      "metadata": {
        "id": "vpskhZe1jU-a"
      },
      "execution_count": null,
      "outputs": []
    }
  ]
}