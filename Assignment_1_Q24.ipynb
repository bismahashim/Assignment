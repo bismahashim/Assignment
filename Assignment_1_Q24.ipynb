{
  "nbformat": 4,
  "nbformat_minor": 0,
  "metadata": {
    "colab": {
      "name": "Assignment 1_Q24",
      "provenance": [],
      "collapsed_sections": [],
      "authorship_tag": "ABX9TyOuYRgVYK7dYMZFuptw81dH",
      "include_colab_link": true
    },
    "kernelspec": {
      "name": "python3",
      "display_name": "Python 3"
    },
    "language_info": {
      "name": "python"
    }
  },
  "cells": [
    {
      "cell_type": "markdown",
      "metadata": {
        "id": "view-in-github",
        "colab_type": "text"
      },
      "source": [
        "<a href=\"https://colab.research.google.com/github/bismahashim/Assignment/blob/main/Assignment_1_Q24.ipynb\" target=\"_parent\"><img src=\"https://colab.research.google.com/assets/colab-badge.svg\" alt=\"Open In Colab\"/></a>"
      ]
    },
    {
      "cell_type": "code",
      "execution_count": 1,
      "metadata": {
        "id": "N1NmMLYmFDoK"
      },
      "outputs": [],
      "source": [
        "import pandas as pd\n",
        "import numpy as np\n",
        "from scipy import stats\n",
        "from scipy.stats import norm"
      ]
    },
    {
      "cell_type": "code",
      "source": [
        "# Sample Mean = 260\n",
        "# Population Mean = 270\n",
        "# Standard Deviation = 90\n",
        "# Sample size = 18"
      ],
      "metadata": {
        "id": "r001KVL5FUub"
      },
      "execution_count": 2,
      "outputs": []
    },
    {
      "cell_type": "code",
      "source": [
        "# t-scores for x = 260\n",
        "t=(260-270)/(90/18**0.5)\n",
        "print(t)"
      ],
      "metadata": {
        "colab": {
          "base_uri": "https://localhost:8080/"
        },
        "id": "35ciqQLpFxmP",
        "outputId": "03da6670-5acb-4fbc-8f45-3bafe1c24197"
      },
      "execution_count": 4,
      "outputs": [
        {
          "output_type": "stream",
          "name": "stdout",
          "text": [
            "-0.4714045207910317\n"
          ]
        }
      ]
    },
    {
      "cell_type": "markdown",
      "source": [
        "Null Hypothesis = Avg life of Bulb >= 260 days\n",
        "\n",
        "Alternate Hypothesis is = Avg life of Bulb < 260 days"
      ],
      "metadata": {
        "id": "5OFJSk5YGFZL"
      }
    },
    {
      "cell_type": "code",
      "source": [
        "#P(X>=260) finding\n",
        "p_value=1-stats.t.cdf(abs(-0.4714),df=17)\n",
        "p_value"
      ],
      "metadata": {
        "colab": {
          "base_uri": "https://localhost:8080/"
        },
        "id": "QELz5p27GAfW",
        "outputId": "8693a257-f8cf-4071-b8a7-012d84745fd0"
      },
      "execution_count": 7,
      "outputs": [
        {
          "output_type": "execute_result",
          "data": {
            "text/plain": [
              "0.32167411684460556"
            ]
          },
          "metadata": {},
          "execution_count": 7
        }
      ]
    },
    {
      "cell_type": "markdown",
      "source": [
        "As p>0.05 - Fail to reject Null hypothesis... \n",
        "Conclusion = Avg life of Bulb >=260 - Will go for Null HYpothesis."
      ],
      "metadata": {
        "id": "HBPTXNCPGqzV"
      }
    },
    {
      "cell_type": "code",
      "source": [
        ""
      ],
      "metadata": {
        "id": "DgsgSdlKGUHT"
      },
      "execution_count": null,
      "outputs": []
    }
  ]
}